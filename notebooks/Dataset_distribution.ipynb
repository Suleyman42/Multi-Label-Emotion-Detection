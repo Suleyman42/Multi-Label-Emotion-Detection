{
 "cells": [
  {
   "cell_type": "markdown",
   "id": "3d4d4cab-2ebf-4478-902a-e35f52ae86e5",
   "metadata": {},
   "source": [
    "## 📊 Dataset Distribution\n",
    "We’ll plot:\n",
    "1. Per-label frequency bar chart  \n",
    "2. Histogram of how many emotions each sample has  \n",
    "3. Top 5 most common multi-label combinations  \n"
   ]
  },
  {
   "cell_type": "markdown",
   "id": "fdfedbdb-5a44-4b38-b023-be4b317007dd",
   "metadata": {},
   "source": [
    "### 1) Load & prepare data"
   ]
  },
  {
   "cell_type": "code",
   "execution_count": 63,
   "id": "ce3fc752-e709-4496-81d5-a2c4ee4cc7e7",
   "metadata": {},
   "outputs": [],
   "source": [
    "import pandas as pd\n",
    "import matplotlib.pyplot as plt\n",
    "\n",
    "df = pd.read_csv(\"track-a.csv\")\n",
    "EMOTION_COLS = ['anger','fear','joy','sadness','surprise']\n",
    "df[EMOTION_COLS] = (\n",
    "    df[EMOTION_COLS]\n",
    "    .apply(pd.to_numeric, errors='coerce').fillna(0).astype(int)\n",
    ")\n",
    "df = df[df[EMOTION_COLS].sum(axis=1) > 0].reset_index(drop=True)\n"
   ]
  },
  {
   "cell_type": "markdown",
   "id": "9f403896-a8cf-4a9f-b59b-17afc2118bef",
   "metadata": {},
   "source": [
    "### 2) Bar chart of each emotion"
   ]
  },
  {
   "cell_type": "code",
   "execution_count": 90,
   "id": "3b0746e6-beec-4c4b-b7d3-40bb50afb40f",
   "metadata": {},
   "outputs": [
    {
     "data": {
      "image/png": "[encoded data removed]",
      "text/plain": [
       "<Figure size 700x400 with 1 Axes>"
      ]
     },
     "metadata": {},
     "output_type": "display_data"
    }
   ],
   "source": [
    "import matplotlib.pyplot as plt\n",
    "\n",
    "# 1) Compute\n",
    "label_counts = df[EMOTION_COLS].sum()\n",
    "\n",
    "# 2) Select distinct colors\n",
    "colors = plt.cm.tab10.colors[: len(label_counts)]  \n",
    "#    ↑ tab10 has 10 distinct colors; we only need as many as emotions\n",
    "\n",
    "# 3) Plot with colors\n",
    "plt.figure(figsize=(7,4))\n",
    "label_counts.plot(\n",
    "    kind='bar',\n",
    "    color=colors,        # pass the list of colors here\n",
    "    edgecolor='black'    # add black edges for clarity\n",
    ")\n",
    "plt.title(\"Emotion Label Frequency\")\n",
    "plt.ylabel(\"Count\")\n",
    "plt.xticks(rotation=0)\n",
    "plt.grid(axis='y', linestyle='--', alpha=0.6)\n",
    "plt.show()\n"
   ]
  },
  {
   "cell_type": "markdown",
   "id": "88772887-913c-4abe-8fa2-fdde323957be",
   "metadata": {},
   "source": [
    "#### Below is a table showing the total count of each emotion label in the cleaned dataset"
   ]
  },
  {
   "cell_type": "code",
   "execution_count": 80,
   "id": "f55a02da-4863-4afd-8513-34e42164a7ca",
   "metadata": {},
   "outputs": [
    {
     "data": {
      "text/html": [
       "<div>\n",
       "<style scoped>\n",
       "    .dataframe tbody tr th:only-of-type {\n",
       "        vertical-align: middle;\n",
       "    }\n",
       "\n",
       "    .dataframe tbody tr th {\n",
       "        vertical-align: top;\n",
       "    }\n",
       "\n",
       "    .dataframe thead th {\n",
       "        text-align: right;\n",
       "    }\n",
       "</style>\n",
       "<table border=\"1\" class=\"dataframe\">\n",
       "  <thead>\n",
       "    <tr style=\"text-align: right;\">\n",
       "      <th></th>\n",
       "      <th>Emotion</th>\n",
       "      <th>Count</th>\n",
       "    </tr>\n",
       "  </thead>\n",
       "  <tbody>\n",
       "    <tr>\n",
       "      <th>1</th>\n",
       "      <td>fear</td>\n",
       "      <td>1611</td>\n",
       "    </tr>\n",
       "    <tr>\n",
       "      <th>3</th>\n",
       "      <td>sadness</td>\n",
       "      <td>878</td>\n",
       "    </tr>\n",
       "    <tr>\n",
       "      <th>4</th>\n",
       "      <td>surprise</td>\n",
       "      <td>839</td>\n",
       "    </tr>\n",
       "    <tr>\n",
       "      <th>2</th>\n",
       "      <td>joy</td>\n",
       "      <td>674</td>\n",
       "    </tr>\n",
       "    <tr>\n",
       "      <th>0</th>\n",
       "      <td>anger</td>\n",
       "      <td>333</td>\n",
       "    </tr>\n",
       "  </tbody>\n",
       "</table>\n",
       "</div>"
      ],
      "text/plain": [
       "    Emotion  Count\n",
       "1      fear   1611\n",
       "3   sadness    878\n",
       "4  surprise    839\n",
       "2       joy    674\n",
       "0     anger    333"
      ]
     },
     "metadata": {},
     "output_type": "display_data"
    }
   ],
   "source": [
    "EMOTION_COLS = ['anger','fear','joy','sadness','surprise']\n",
    "\n",
    "counts = (\n",
    "    df[EMOTION_COLS]\n",
    "      .sum()\n",
    "      .reset_index()\n",
    "      .rename(columns={'index':'Emotion', 0:'Count'})\n",
    "      .sort_values(by='Count', ascending=False)\n",
    ")\n",
    "\n",
    "\n",
    "\n",
    "display(counts)"
   ]
  },
  {
   "cell_type": "markdown",
   "id": "72021ebe-2246-4629-aee8-9a00361b6949",
   "metadata": {},
   "source": [
    "### 3) Histogram: number of emotions per sample"
   ]
  },
  {
   "cell_type": "code",
   "execution_count": 61,
   "id": "28e6f7f0-fd5c-44d2-a12c-fbaa0ce03c07",
   "metadata": {},
   "outputs": [
    {
     "data": {
      "image/png": "[encoded data removed]",
      "text/plain": [
       "<Figure size 700x400 with 1 Axes>"
      ]
     },
     "metadata": {},
     "output_type": "display_data"
    }
   ],
   "source": [
    "label_sum = df[EMOTION_COLS].sum(axis=1)\n",
    "plt.figure(figsize=(7,4))\n",
    "plt.hist(label_sum, bins=range(label_sum.max()+2), align='left', rwidth=0.8)\n",
    "plt.title(\"Distribution of Number of Emotions per Sample\")\n",
    "plt.xlabel(\"Number of Emotions\")\n",
    "plt.ylabel(\"Frequency\")\n",
    "plt.xticks(range(label_sum.max()+1))\n",
    "plt.grid(axis='y', linestyle='--', alpha=0.6)\n",
    "plt.show()"
   ]
  },
  {
   "cell_type": "markdown",
   "id": "6b47f5e9-c10f-4be5-99f3-3c579c0529d5",
   "metadata": {},
   "source": [
    "### Top 5 Multi-Label Combinations\n",
    "4) Compute and display the top 5 most frequent label combinations"
   ]
  },
  {
   "cell_type": "code",
   "execution_count": 88,
   "id": "a79d9f14-b3a2-423d-a58f-4e1449954cb4",
   "metadata": {},
   "outputs": [
    {
     "data": {
      "text/html": [
       "<div>\n",
       "<style scoped>\n",
       "    .dataframe tbody tr th:only-of-type {\n",
       "        vertical-align: middle;\n",
       "    }\n",
       "\n",
       "    .dataframe tbody tr th {\n",
       "        vertical-align: top;\n",
       "    }\n",
       "\n",
       "    .dataframe thead th {\n",
       "        text-align: right;\n",
       "    }\n",
       "</style>\n",
       "<table border=\"1\" class=\"dataframe\">\n",
       "  <thead>\n",
       "    <tr style=\"text-align: right;\">\n",
       "      <th></th>\n",
       "      <th>Emotion Combination</th>\n",
       "      <th>Count</th>\n",
       "    </tr>\n",
       "  </thead>\n",
       "  <tbody>\n",
       "    <tr>\n",
       "      <th>0</th>\n",
       "      <td>(joy,)</td>\n",
       "      <td>429</td>\n",
       "    </tr>\n",
       "    <tr>\n",
       "      <th>1</th>\n",
       "      <td>(fear, sadness)</td>\n",
       "      <td>412</td>\n",
       "    </tr>\n",
       "    <tr>\n",
       "      <th>2</th>\n",
       "      <td>(fear,)</td>\n",
       "      <td>411</td>\n",
       "    </tr>\n",
       "    <tr>\n",
       "      <th>3</th>\n",
       "      <td>(fear, surprise)</td>\n",
       "      <td>324</td>\n",
       "    </tr>\n",
       "    <tr>\n",
       "      <th>4</th>\n",
       "      <td>(sadness,)</td>\n",
       "      <td>133</td>\n",
       "    </tr>\n",
       "  </tbody>\n",
       "</table>\n",
       "</div>"
      ],
      "text/plain": [
       "  Emotion Combination  Count\n",
       "0              (joy,)    429\n",
       "1     (fear, sadness)    412\n",
       "2             (fear,)    411\n",
       "3    (fear, surprise)    324\n",
       "4          (sadness,)    133"
      ]
     },
     "metadata": {},
     "output_type": "display_data"
    }
   ],
   "source": [
    "\n",
    "combo_counts = (\n",
    "    df[EMOTION_COLS]\n",
    "    .apply(lambda row: tuple(sorted([emo for emo, flag in zip(EMOTION_COLS, row) if flag])), axis=1)\n",
    "    .value_counts()\n",
    ")\n",
    "top5 = combo_counts.head(5).reset_index()\n",
    "top5.columns = [\"Emotion Combination\", \"Count\"]\n",
    "display(top5)\n"
   ]
  },
  {
   "cell_type": "code",
   "execution_count": 86,
   "id": "83bd9adc-50e8-437b-b8ae-f08fcf18dce8",
   "metadata": {},
   "outputs": [
    {
     "data": {
      "text/plain": [
       "(fear, sadness)              412\n",
       "(fear, surprise)             324\n",
       "(fear, sadness, surprise)    124\n",
       "(joy, surprise)              108\n",
       "(anger, fear, sadness)        77\n",
       "Name: count, dtype: int64"
      ]
     },
     "execution_count": 86,
     "metadata": {},
     "output_type": "execute_result"
    }
   ],
   "source": [
    "# Keep only combinations of length >= 2\n",
    "multi_combo_counts = combo_counts[\n",
    "    combo_counts.index.map(len) > 1\n",
    "]\n",
    "\n",
    "# Show top 5 multi-emotion combos\n",
    "multi_combo_counts.head(5)\n"
   ]
  },
  {
   "cell_type": "code",
   "execution_count": null,
   "id": "1b22f8aa-f972-42f4-a184-5378679b625d",
   "metadata": {},
   "outputs": [],
   "source": []
  }
 ],
 "metadata": {
  "kernelspec": {
   "display_name": "Python 3 (ipykernel)",
   "language": "python",
   "name": "python3"
  },
  "language_info": {
   "codemirror_mode": {
    "name": "ipython",
    "version": 3
   },
   "file_extension": ".py",
   "mimetype": "text/x-python",
   "name": "python",
   "nbconvert_exporter": "python",
   "pygments_lexer": "ipython3",
   "version": "3.12.2"
  }
 },
 "nbformat": 4,
 "nbformat_minor": 5
}
