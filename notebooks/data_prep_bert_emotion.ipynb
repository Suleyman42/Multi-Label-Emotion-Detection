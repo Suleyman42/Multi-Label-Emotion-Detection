{
 "cells": [
  {
   "cell_type": "markdown",
   "id": "4462c4b5-24c0-42cb-8a3d-b10298917f68",
   "metadata": {},
   "source": [
    "# Multi-Label Emotion Dataset Cleaning & Filtering\n",
    "This notebook will:\n",
    "1. Load the raw CSV  \n",
    "2. Coerce emotion columns to numeric  \n",
    "3. Count and preview rows with no emotions  \n",
    "4. Filter them out  \n",
    "5. Confirm the result  \n"
   ]
  },
  {
   "cell_type": "code",
   "execution_count": 1,
   "id": "84eb3ffe-adb8-4470-b397-8d73e879e31b",
   "metadata": {},
   "outputs": [
    {
     "name": "stdout",
     "output_type": "stream",
     "text": [
      "Requirement already satisfied: beautifulsoup4 in /Applications/anaconda3/lib/python3.12/site-packages (4.12.3)\n",
      "Requirement already satisfied: soupsieve>1.2 in /Applications/anaconda3/lib/python3.12/site-packages (from beautifulsoup4) (2.5)\n"
     ]
    }
   ],
   "source": [
    "!pip install beautifulsoup4\n"
   ]
  },
  {
   "cell_type": "code",
   "execution_count": 3,
   "id": "fcc60e96-e173-465e-9a2e-2dc37f58494d",
   "metadata": {},
   "outputs": [],
   "source": [
    "from bs4 import BeautifulSoup\n"
   ]
  },
  {
   "cell_type": "markdown",
   "id": "a7765acb-f190-4499-8922-95603c21c288",
   "metadata": {},
   "source": [
    "## STEP 1: Dataset Filtering "
   ]
  },
  {
   "cell_type": "code",
   "execution_count": 6,
   "id": "253ec303-eb4c-4b6b-a43d-4655872b53a8",
   "metadata": {},
   "outputs": [],
   "source": [
    "import pandas as pd\n",
    "\n",
    "# Emotion label columns\n",
    "emotion_cols = ['anger', 'fear', 'joy', 'sadness', 'surprise']\n"
   ]
  },
  {
   "cell_type": "markdown",
   "id": "16c2c3e8-88f2-4501-b598-a4dcef90c2ec",
   "metadata": {},
   "source": [
    "1. Load the raw data"
   ]
  },
  {
   "cell_type": "code",
   "execution_count": 9,
   "id": "54f0b79c-23b8-46e4-8ba5-c2e3853ca74c",
   "metadata": {},
   "outputs": [
    {
     "name": "stdout",
     "output_type": "stream",
     "text": [
      "✅ Loaded 2768 rows\n"
     ]
    }
   ],
   "source": [
    "\n",
    "df_raw = pd.read_csv(\"track-a.csv\")\n",
    "print(f\"✅ Loaded {len(df_raw)} rows\")\n"
   ]
  },
  {
   "cell_type": "markdown",
   "id": "ecdac284-74f5-44c8-9535-e2c8f7f1fdf4",
   "metadata": {},
   "source": [
    "2. Coerce emotion columns to integers"
   ]
  },
  {
   "cell_type": "code",
   "execution_count": 12,
   "id": "3979eefb-bad7-46bf-9446-bfd829f178e5",
   "metadata": {},
   "outputs": [],
   "source": [
    "df_raw[emotion_cols] = (\n",
    "    df_raw[emotion_cols]\n",
    "    .apply(pd.to_numeric, errors='coerce')  # any bad entries → NaN\n",
    "    .fillna(0)                             # NaN → 0\n",
    "    .astype(int)\n",
    ")\n"
   ]
  },
  {
   "cell_type": "markdown",
   "id": "baa9132e-f78b-46c5-9f45-1e0f376bdc0c",
   "metadata": {},
   "source": [
    "3. Count rows with no emotions BEFORE filtering"
   ]
  },
  {
   "cell_type": "code",
   "execution_count": 15,
   "id": "5a8a1edc-58dc-445c-9a18-3c5f99df174f",
   "metadata": {},
   "outputs": [
    {
     "name": "stdout",
     "output_type": "stream",
     "text": [
      "Rows with no emotions (before): 239\n"
     ]
    }
   ],
   "source": [
    "# 3. Count rows with no emotions BEFORE filtering\n",
    "zero_before = (df_raw[emotion_cols].sum(axis=1) == 0).sum()\n",
    "print(f\"Rows with no emotions (before): {zero_before}\")\n"
   ]
  },
  {
   "cell_type": "markdown",
   "id": "95bcc3c7-9c48-4a0c-b718-2989e14296e7",
   "metadata": {},
   "source": [
    "### Preview some zero-label rows"
   ]
  },
  {
   "cell_type": "code",
   "execution_count": 18,
   "id": "e653c559-aa10-4e36-9bc2-f98676b556c9",
   "metadata": {},
   "outputs": [
    {
     "data": {
      "text/html": [
       "<div>\n",
       "<style scoped>\n",
       "    .dataframe tbody tr th:only-of-type {\n",
       "        vertical-align: middle;\n",
       "    }\n",
       "\n",
       "    .dataframe tbody tr th {\n",
       "        vertical-align: top;\n",
       "    }\n",
       "\n",
       "    .dataframe thead th {\n",
       "        text-align: right;\n",
       "    }\n",
       "</style>\n",
       "<table border=\"1\" class=\"dataframe\">\n",
       "  <thead>\n",
       "    <tr style=\"text-align: right;\">\n",
       "      <th></th>\n",
       "      <th>id</th>\n",
       "      <th>text</th>\n",
       "      <th>anger</th>\n",
       "      <th>fear</th>\n",
       "      <th>joy</th>\n",
       "      <th>sadness</th>\n",
       "      <th>surprise</th>\n",
       "    </tr>\n",
       "  </thead>\n",
       "  <tbody>\n",
       "    <tr>\n",
       "      <th>3</th>\n",
       "      <td>eng_train_track_a_00004</td>\n",
       "      <td>After all, I had vegetables coming out my ears...</td>\n",
       "      <td>0</td>\n",
       "      <td>0</td>\n",
       "      <td>0</td>\n",
       "      <td>0</td>\n",
       "      <td>0</td>\n",
       "    </tr>\n",
       "    <tr>\n",
       "      <th>13</th>\n",
       "      <td>eng_train_track_a_00014</td>\n",
       "      <td>Now my parents live in the foothills, and the ...</td>\n",
       "      <td>0</td>\n",
       "      <td>0</td>\n",
       "      <td>0</td>\n",
       "      <td>0</td>\n",
       "      <td>0</td>\n",
       "    </tr>\n",
       "    <tr>\n",
       "      <th>50</th>\n",
       "      <td>eng_train_track_a_00051</td>\n",
       "      <td>painted on my face.</td>\n",
       "      <td>0</td>\n",
       "      <td>0</td>\n",
       "      <td>0</td>\n",
       "      <td>0</td>\n",
       "      <td>0</td>\n",
       "    </tr>\n",
       "    <tr>\n",
       "      <th>53</th>\n",
       "      <td>eng_train_track_a_00054</td>\n",
       "      <td>She left the room and went downstairs.</td>\n",
       "      <td>0</td>\n",
       "      <td>0</td>\n",
       "      <td>0</td>\n",
       "      <td>0</td>\n",
       "      <td>0</td>\n",
       "    </tr>\n",
       "    <tr>\n",
       "      <th>60</th>\n",
       "      <td>eng_train_track_a_00061</td>\n",
       "      <td>' I chanted in my head.</td>\n",
       "      <td>0</td>\n",
       "      <td>0</td>\n",
       "      <td>0</td>\n",
       "      <td>0</td>\n",
       "      <td>0</td>\n",
       "    </tr>\n",
       "  </tbody>\n",
       "</table>\n",
       "</div>"
      ],
      "text/plain": [
       "                         id  \\\n",
       "3   eng_train_track_a_00004   \n",
       "13  eng_train_track_a_00014   \n",
       "50  eng_train_track_a_00051   \n",
       "53  eng_train_track_a_00054   \n",
       "60  eng_train_track_a_00061   \n",
       "\n",
       "                                                 text  anger  fear  joy  \\\n",
       "3   After all, I had vegetables coming out my ears...      0     0    0   \n",
       "13  Now my parents live in the foothills, and the ...      0     0    0   \n",
       "50                                painted on my face.      0     0    0   \n",
       "53             She left the room and went downstairs.      0     0    0   \n",
       "60                            ' I chanted in my head.      0     0    0   \n",
       "\n",
       "    sadness  surprise  \n",
       "3         0         0  \n",
       "13        0         0  \n",
       "50        0         0  \n",
       "53        0         0  \n",
       "60        0         0  "
      ]
     },
     "metadata": {},
     "output_type": "display_data"
    }
   ],
   "source": [
    "if zero_before > 0:\n",
    "    display(df_raw[df_raw[emotion_cols].sum(axis=1) == 0].head())"
   ]
  },
  {
   "cell_type": "markdown",
   "id": "5de5e776-19c4-4e9d-9623-e34d2799a9f1",
   "metadata": {},
   "source": [
    "4. Filter out zero-emotion rows"
   ]
  },
  {
   "cell_type": "code",
   "execution_count": 21,
   "id": "dcca3ff1-2426-4886-b150-98099ba4ffc8",
   "metadata": {},
   "outputs": [],
   "source": [
    "df = df_raw[df_raw[emotion_cols].sum(axis=1) > 0].reset_index(drop=True)"
   ]
  },
  {
   "cell_type": "markdown",
   "id": "d69f79bd-d6c0-4e04-8308-704b17516308",
   "metadata": {},
   "source": [
    "#### 5. Confirm results"
   ]
  },
  {
   "cell_type": "code",
   "execution_count": 35,
   "id": "c5e72d61-5441-4fa8-9a9d-b0276a86b7a2",
   "metadata": {},
   "outputs": [
    {
     "name": "stdout",
     "output_type": "stream",
     "text": [
      "Rows with no emotions (after): 0\n",
      "Dataset size: before=2768, after=2529\n"
     ]
    }
   ],
   "source": [
    "zero_after = (df[emotion_cols].sum(axis=1) == 0).sum()\n",
    "print(f\"Rows with no emotions (after): {zero_after}\")\n",
    "print(f\"Dataset size: before={len(df_raw)}, after={len(df)}\")"
   ]
  },
  {
   "cell_type": "markdown",
   "id": "ba3fdc95-4242-4f2a-88dd-a66a2e983687",
   "metadata": {},
   "source": [
    "\n",
    "## 2. Advanced Text Cleaning\n",
    "We’ll strip HTML tags, normalize Unicode, mask URLs/emails, preserve emojis, etc.\n"
   ]
  },
  {
   "cell_type": "markdown",
   "id": "0ce3cdb1-ddaa-4041-98b7-58803ea3a713",
   "metadata": {},
   "source": [
    "#### 1. Define a clean-text + BeautifulSoup cleaner"
   ]
  },
  {
   "cell_type": "code",
   "execution_count": null,
   "id": "cace475f-5255-4d1f-9469-5c2d7714978a",
   "metadata": {},
   "outputs": [],
   "source": []
  },
  {
   "cell_type": "code",
   "execution_count": 33,
   "id": "94784f21-3d89-49eb-a4c3-1a1fa37add7e",
   "metadata": {},
   "outputs": [],
   "source": [
    "from cleantext import clean\n"
   ]
  },
  {
   "cell_type": "code",
   "execution_count": 39,
   "id": "57007388-a939-4bab-9cbe-b126bb5a6078",
   "metadata": {},
   "outputs": [
    {
     "name": "stderr",
     "output_type": "stream",
     "text": [
      "/var/folders/vd/tbv3zvvj4p51t_gclpfsv9tm0000gn/T/ipykernel_47823/2250610214.py:4: MarkupResemblesLocatorWarning: The input looks more like a filename than markup. You may want to open this file and pass the filehandle into Beautiful Soup.\n",
      "  text = BeautifulSoup(text, \"html.parser\").get_text()\n"
     ]
    }
   ],
   "source": [
    "# 3.1 Define a clean-text + BeautifulSoup cleaner\n",
    "def clean_with_library(text: str) -> str:\n",
    "    # 1) remove HTML tags/entities\n",
    "    text = BeautifulSoup(text, \"html.parser\").get_text()\n",
    "    # 2) call clean-text for Unicode/URLs/emails/etc.\n",
    "    return clean(\n",
    "        text,\n",
    "        fix_unicode=True,\n",
    "        to_ascii=False,\n",
    "        lower=False,\n",
    "        no_line_breaks=True,\n",
    "        no_urls=True,\n",
    "        no_emails=True,\n",
    "        no_phone_numbers=True,\n",
    "        no_numbers=False,\n",
    "        no_digits=False,\n",
    "        no_currency_symbols=True,\n",
    "        no_punct=False,\n",
    "        replace_with_url=\"<URL>\",\n",
    "        replace_with_email=\"<EMAIL>\",\n",
    "        replace_with_phone_number=\"<PHONE>\",\n",
    "        replace_with_number=\"<NUMBER>\",\n",
    "        replace_with_digit=\"0\",\n",
    "        replace_with_currency_symbol=\"<CUR>\",\n",
    "        lang=\"en\"\n",
    "    )\n",
    "\n",
    "# 3.2 Apply cleaning to a new column\n",
    "df['clean_text'] = df['text'].apply(clean_with_library)\n"
   ]
  },
  {
   "cell_type": "code",
   "execution_count": null,
   "id": "5b3f74af-b3af-4d34-8d13-90c36679c872",
   "metadata": {},
   "outputs": [],
   "source": []
  },
  {
   "cell_type": "markdown",
   "id": "4507d373-802a-4e65-8fd4-8ec51b321720",
   "metadata": {},
   "source": [
    "### 4. Preview Raw vs. Cleaned Text"
   ]
  },
  {
   "cell_type": "code",
   "execution_count": 41,
   "id": "21a534f4-aa7a-4b07-89c7-6c02c91fd83e",
   "metadata": {},
   "outputs": [
    {
     "data": {
      "text/html": [
       "<div>\n",
       "<style scoped>\n",
       "    .dataframe tbody tr th:only-of-type {\n",
       "        vertical-align: middle;\n",
       "    }\n",
       "\n",
       "    .dataframe tbody tr th {\n",
       "        vertical-align: top;\n",
       "    }\n",
       "\n",
       "    .dataframe thead th {\n",
       "        text-align: right;\n",
       "    }\n",
       "</style>\n",
       "<table border=\"1\" class=\"dataframe\">\n",
       "  <thead>\n",
       "    <tr style=\"text-align: right;\">\n",
       "      <th></th>\n",
       "      <th>Raw</th>\n",
       "      <th>Cleaned</th>\n",
       "    </tr>\n",
       "  </thead>\n",
       "  <tbody>\n",
       "    <tr>\n",
       "      <th>0</th>\n",
       "      <td>Colorado, middle of nowhere.</td>\n",
       "      <td>Colorado, middle of nowhere.</td>\n",
       "    </tr>\n",
       "    <tr>\n",
       "      <th>1</th>\n",
       "      <td>This involved swimming a pretty large lake tha...</td>\n",
       "      <td>This involved swimming a pretty large lake tha...</td>\n",
       "    </tr>\n",
       "    <tr>\n",
       "      <th>2</th>\n",
       "      <td>It was one of my most shameful experiences.</td>\n",
       "      <td>It was one of my most shameful experiences.</td>\n",
       "    </tr>\n",
       "    <tr>\n",
       "      <th>3</th>\n",
       "      <td>Then the screaming started.</td>\n",
       "      <td>Then the screaming started.</td>\n",
       "    </tr>\n",
       "    <tr>\n",
       "      <th>4</th>\n",
       "      <td>They don't fear death, and it seems they belie...</td>\n",
       "      <td>They don't fear death, and it seems they belie...</td>\n",
       "    </tr>\n",
       "  </tbody>\n",
       "</table>\n",
       "</div>"
      ],
      "text/plain": [
       "                                                 Raw  \\\n",
       "0                       Colorado, middle of nowhere.   \n",
       "1  This involved swimming a pretty large lake tha...   \n",
       "2        It was one of my most shameful experiences.   \n",
       "3                        Then the screaming started.   \n",
       "4  They don't fear death, and it seems they belie...   \n",
       "\n",
       "                                             Cleaned  \n",
       "0                       Colorado, middle of nowhere.  \n",
       "1  This involved swimming a pretty large lake tha...  \n",
       "2        It was one of my most shameful experiences.  \n",
       "3                        Then the screaming started.  \n",
       "4  They don't fear death, and it seems they belie...  "
      ]
     },
     "metadata": {},
     "output_type": "display_data"
    }
   ],
   "source": [
    "display(\n",
    "    df[['text','clean_text']]\n",
    "    .rename(columns={'text':'Raw','clean_text':'Cleaned'})\n",
    "    .head(5)\n",
    ")\n"
   ]
  },
  {
   "cell_type": "markdown",
   "id": "ff4145fa-7557-4081-8892-314aea7c4935",
   "metadata": {},
   "source": [
    "\n",
    "## 5. Sanity-Check Cleaned Text\n",
    "Scan for leftover artifacts—HTML entities, URLs, control chars, etc.\n"
   ]
  },
  {
   "cell_type": "code",
   "execution_count": 43,
   "id": "2619779a-3bcd-4f47-8a14-7e660895ab14",
   "metadata": {},
   "outputs": [
    {
     "name": "stdout",
     "output_type": "stream",
     "text": [
      "HTML entities       :   0 rows\n",
      "\n",
      "URLs                :   0 rows\n",
      "\n",
      "Placeholders        :   0 rows\n",
      "\n",
      "Control chars       :   0 rows\n",
      "\n"
     ]
    }
   ],
   "source": [
    "checks = {\n",
    "    r\"&[A-Za-z0-9#]+;\":     \"HTML entities\",\n",
    "    r\"https?://\\S+\":        \"URLs\",\n",
    "    r\"<USER>|<EMAIL>|<URL>\":\"Placeholders\",\n",
    "    r\"[\\x00-\\x1F\\x7F]\":     \"Control chars\"\n",
    "}\n",
    "\n",
    "for pattern, desc in checks.items():\n",
    "    mask = df['clean_text'].str.contains(pattern, regex=True, na=False)\n",
    "    cnt  = mask.sum()\n",
    "    print(f\"{desc:20s}: {cnt:3d} rows\")\n",
    "    if cnt > 0:\n",
    "        print(\"  Examples:\", df.loc[mask,'clean_text'].head(3).tolist())\n",
    "    print()\n"
   ]
  },
  {
   "cell_type": "code",
   "execution_count": 45,
   "id": "fb26f03a-b5b4-4c0f-95b6-a7868f9f6bc9",
   "metadata": {},
   "outputs": [
    {
     "data": {
      "text/html": [
       "<div>\n",
       "<style scoped>\n",
       "    .dataframe tbody tr th:only-of-type {\n",
       "        vertical-align: middle;\n",
       "    }\n",
       "\n",
       "    .dataframe tbody tr th {\n",
       "        vertical-align: top;\n",
       "    }\n",
       "\n",
       "    .dataframe thead th {\n",
       "        text-align: right;\n",
       "    }\n",
       "</style>\n",
       "<table border=\"1\" class=\"dataframe\">\n",
       "  <thead>\n",
       "    <tr style=\"text-align: right;\">\n",
       "      <th></th>\n",
       "      <th>Artifact</th>\n",
       "      <th>Count</th>\n",
       "    </tr>\n",
       "  </thead>\n",
       "  <tbody>\n",
       "    <tr>\n",
       "      <th>0</th>\n",
       "      <td>HTML entities</td>\n",
       "      <td>0</td>\n",
       "    </tr>\n",
       "    <tr>\n",
       "      <th>1</th>\n",
       "      <td>URLs</td>\n",
       "      <td>0</td>\n",
       "    </tr>\n",
       "    <tr>\n",
       "      <th>2</th>\n",
       "      <td>Placeholders</td>\n",
       "      <td>0</td>\n",
       "    </tr>\n",
       "    <tr>\n",
       "      <th>3</th>\n",
       "      <td>Control characters</td>\n",
       "      <td>0</td>\n",
       "    </tr>\n",
       "  </tbody>\n",
       "</table>\n",
       "</div>"
      ],
      "text/plain": [
       "             Artifact  Count\n",
       "0       HTML entities      0\n",
       "1                URLs      0\n",
       "2        Placeholders      0\n",
       "3  Control characters      0"
      ]
     },
     "metadata": {},
     "output_type": "display_data"
    }
   ],
   "source": [
    "import pandas as pd\n",
    "import re\n",
    "\n",
    "# patterns to check for\n",
    "checks = {\n",
    "    \"HTML entities\":         r\"&[A-Za-z0-9#]+;\",\n",
    "    \"URLs\":                  r\"https?://\\S+\",\n",
    "    \"Placeholders\":          r\"<URL>|<EMAIL>|<PHONE>\",\n",
    "    \"Control characters\":    r\"[\\x00-\\x1F\\x7F]\"\n",
    "}\n",
    "\n",
    "# summary rows\n",
    "rows = []\n",
    "for desc, pattern in checks.items():\n",
    "    mask = df['clean_text'].str.contains(pattern, regex=True, na=False)\n",
    "    count = mask.sum()\n",
    "    examples = df.loc[mask, 'clean_text'].head(3).tolist()\n",
    "    row = {\n",
    "        \"Artifact\": desc,\n",
    "        \"Count\": count,\n",
    "        **{f\"Example_{i+1}\": ex for i, ex in enumerate(examples)}\n",
    "    }\n",
    "    rows.append(row)\n",
    "\n",
    "# display the DataFrame\n",
    "summary_df = pd.DataFrame(rows)\n",
    "display(summary_df)\n"
   ]
  },
  {
   "cell_type": "code",
   "execution_count": null,
   "id": "f0cd7163-550d-4851-be8b-16f63cf56bd4",
   "metadata": {},
   "outputs": [],
   "source": [
    "df.head()"
   ]
  },
  {
   "cell_type": "code",
   "execution_count": 47,
   "id": "169df503-e31d-4063-bc38-87fef705ee2d",
   "metadata": {},
   "outputs": [
    {
     "data": {
      "text/html": [
       "<div>\n",
       "<style scoped>\n",
       "    .dataframe tbody tr th:only-of-type {\n",
       "        vertical-align: middle;\n",
       "    }\n",
       "\n",
       "    .dataframe tbody tr th {\n",
       "        vertical-align: top;\n",
       "    }\n",
       "\n",
       "    .dataframe thead th {\n",
       "        text-align: right;\n",
       "    }\n",
       "</style>\n",
       "<table border=\"1\" class=\"dataframe\">\n",
       "  <thead>\n",
       "    <tr style=\"text-align: right;\">\n",
       "      <th></th>\n",
       "      <th>text</th>\n",
       "      <th>labels</th>\n",
       "    </tr>\n",
       "  </thead>\n",
       "  <tbody>\n",
       "    <tr>\n",
       "      <th>0</th>\n",
       "      <td>Colorado, middle of nowhere.</td>\n",
       "      <td>[0, 1, 0, 0, 1]</td>\n",
       "    </tr>\n",
       "    <tr>\n",
       "      <th>1</th>\n",
       "      <td>This involved swimming a pretty large lake tha...</td>\n",
       "      <td>[0, 1, 0, 0, 0]</td>\n",
       "    </tr>\n",
       "    <tr>\n",
       "      <th>2</th>\n",
       "      <td>It was one of my most shameful experiences.</td>\n",
       "      <td>[0, 1, 0, 1, 0]</td>\n",
       "    </tr>\n",
       "    <tr>\n",
       "      <th>3</th>\n",
       "      <td>Then the screaming started.</td>\n",
       "      <td>[0, 1, 0, 1, 1]</td>\n",
       "    </tr>\n",
       "    <tr>\n",
       "      <th>4</th>\n",
       "      <td>They don't fear death, and it seems they belie...</td>\n",
       "      <td>[0, 1, 0, 0, 1]</td>\n",
       "    </tr>\n",
       "  </tbody>\n",
       "</table>\n",
       "</div>"
      ],
      "text/plain": [
       "                                                text           labels\n",
       "0                       Colorado, middle of nowhere.  [0, 1, 0, 0, 1]\n",
       "1  This involved swimming a pretty large lake tha...  [0, 1, 0, 0, 0]\n",
       "2        It was one of my most shameful experiences.  [0, 1, 0, 1, 0]\n",
       "3                        Then the screaming started.  [0, 1, 0, 1, 1]\n",
       "4  They don't fear death, and it seems they belie...  [0, 1, 0, 0, 1]"
      ]
     },
     "metadata": {},
     "output_type": "display_data"
    }
   ],
   "source": [
    "import pandas as pd\n",
    "\n",
    "EMOTION_COLS = ['anger','fear','joy','sadness','surprise']\n",
    "\n",
    "# starting from your cleaned+filtered df\n",
    "df2 = pd.DataFrame({\n",
    "    'text':    df['clean_text'],\n",
    "    'labels':  df[EMOTION_COLS].values.tolist()\n",
    "})\n",
    "\n",
    "# Preview\n",
    "display(df2.head())\n"
   ]
  },
  {
   "cell_type": "code",
   "execution_count": 49,
   "id": "2147522d-cf38-48c3-9da5-02d728248f7d",
   "metadata": {},
   "outputs": [
    {
     "data": {
      "text/html": [
       "<div>\n",
       "<style scoped>\n",
       "    .dataframe tbody tr th:only-of-type {\n",
       "        vertical-align: middle;\n",
       "    }\n",
       "\n",
       "    .dataframe tbody tr th {\n",
       "        vertical-align: top;\n",
       "    }\n",
       "\n",
       "    .dataframe thead th {\n",
       "        text-align: right;\n",
       "    }\n",
       "</style>\n",
       "<table border=\"1\" class=\"dataframe\">\n",
       "  <thead>\n",
       "    <tr style=\"text-align: right;\">\n",
       "      <th></th>\n",
       "      <th>text</th>\n",
       "      <th>labels</th>\n",
       "    </tr>\n",
       "  </thead>\n",
       "  <tbody>\n",
       "    <tr>\n",
       "      <th>0</th>\n",
       "      <td>Colorado, middle of nowhere.</td>\n",
       "      <td>[fear, surprise]</td>\n",
       "    </tr>\n",
       "    <tr>\n",
       "      <th>1</th>\n",
       "      <td>This involved swimming a pretty large lake tha...</td>\n",
       "      <td>[fear]</td>\n",
       "    </tr>\n",
       "    <tr>\n",
       "      <th>2</th>\n",
       "      <td>It was one of my most shameful experiences.</td>\n",
       "      <td>[fear, sadness]</td>\n",
       "    </tr>\n",
       "    <tr>\n",
       "      <th>3</th>\n",
       "      <td>Then the screaming started.</td>\n",
       "      <td>[fear, sadness, surprise]</td>\n",
       "    </tr>\n",
       "    <tr>\n",
       "      <th>4</th>\n",
       "      <td>They don't fear death, and it seems they belie...</td>\n",
       "      <td>[fear, surprise]</td>\n",
       "    </tr>\n",
       "  </tbody>\n",
       "</table>\n",
       "</div>"
      ],
      "text/plain": [
       "                                                text  \\\n",
       "0                       Colorado, middle of nowhere.   \n",
       "1  This involved swimming a pretty large lake tha...   \n",
       "2        It was one of my most shameful experiences.   \n",
       "3                        Then the screaming started.   \n",
       "4  They don't fear death, and it seems they belie...   \n",
       "\n",
       "                      labels  \n",
       "0           [fear, surprise]  \n",
       "1                     [fear]  \n",
       "2            [fear, sadness]  \n",
       "3  [fear, sadness, surprise]  \n",
       "4           [fear, surprise]  "
      ]
     },
     "metadata": {},
     "output_type": "display_data"
    }
   ],
   "source": [
    "df2['labels'] = df.apply(\n",
    "    lambda row: [emo for emo in EMOTION_COLS if row[emo] == 1],\n",
    "    axis=1\n",
    ")\n",
    "display(df2.head())"
   ]
  },
  {
   "cell_type": "code",
   "execution_count": 51,
   "id": "4b203590-85b9-4fe3-b1fb-01e78ca33d79",
   "metadata": {},
   "outputs": [
    {
     "name": "stdout",
     "output_type": "stream",
     "text": [
      "Requirement already satisfied: neattext in /Applications/anaconda3/lib/python3.12/site-packages (0.1.3)\n"
     ]
    }
   ],
   "source": [
    "!pip install neattext\n",
    "import neattext.functions as nfx\n"
   ]
  },
  {
   "cell_type": "code",
   "execution_count": 52,
   "id": "32a70129-71af-4771-9a41-34380bb9dd41",
   "metadata": {},
   "outputs": [],
   "source": [
    "# Remove the user handles\n",
    "df2['Clean_Text'] = df['text'].apply(nfx.remove_userhandles)"
   ]
  },
  {
   "cell_type": "code",
   "execution_count": null,
   "id": "d39dd4d2-f298-421d-8b17-a16a8714da1a",
   "metadata": {},
   "outputs": [],
   "source": []
  },
  {
   "cell_type": "code",
   "execution_count": 56,
   "id": "388dae68-c459-49f1-9019-2fbe692b0fd8",
   "metadata": {},
   "outputs": [],
   "source": [
    "# Remove the stopwords\n",
    "df2['Clean_Text'] = df['text'].apply(nfx.remove_stopwords)"
   ]
  },
  {
   "cell_type": "code",
   "execution_count": 58,
   "id": "e3748c9d-c806-488a-91de-de2d135479bb",
   "metadata": {},
   "outputs": [
    {
     "data": {
      "text/html": [
       "<div>\n",
       "<style scoped>\n",
       "    .dataframe tbody tr th:only-of-type {\n",
       "        vertical-align: middle;\n",
       "    }\n",
       "\n",
       "    .dataframe tbody tr th {\n",
       "        vertical-align: top;\n",
       "    }\n",
       "\n",
       "    .dataframe thead th {\n",
       "        text-align: right;\n",
       "    }\n",
       "</style>\n",
       "<table border=\"1\" class=\"dataframe\">\n",
       "  <thead>\n",
       "    <tr style=\"text-align: right;\">\n",
       "      <th></th>\n",
       "      <th>text</th>\n",
       "      <th>labels</th>\n",
       "      <th>Clean_Text</th>\n",
       "    </tr>\n",
       "  </thead>\n",
       "  <tbody>\n",
       "    <tr>\n",
       "      <th>0</th>\n",
       "      <td>Colorado, middle of nowhere.</td>\n",
       "      <td>[fear, surprise]</td>\n",
       "      <td>Colorado, middle nowhere.</td>\n",
       "    </tr>\n",
       "    <tr>\n",
       "      <th>1</th>\n",
       "      <td>This involved swimming a pretty large lake tha...</td>\n",
       "      <td>[fear]</td>\n",
       "      <td>involved swimming pretty large lake head.</td>\n",
       "    </tr>\n",
       "    <tr>\n",
       "      <th>2</th>\n",
       "      <td>It was one of my most shameful experiences.</td>\n",
       "      <td>[fear, sadness]</td>\n",
       "      <td>shameful experiences.</td>\n",
       "    </tr>\n",
       "    <tr>\n",
       "      <th>3</th>\n",
       "      <td>Then the screaming started.</td>\n",
       "      <td>[fear, sadness, surprise]</td>\n",
       "      <td>screaming started.</td>\n",
       "    </tr>\n",
       "    <tr>\n",
       "      <th>4</th>\n",
       "      <td>They don't fear death, and it seems they belie...</td>\n",
       "      <td>[fear, surprise]</td>\n",
       "      <td>fear death, believe reincarnation.</td>\n",
       "    </tr>\n",
       "    <tr>\n",
       "      <th>...</th>\n",
       "      <td>...</td>\n",
       "      <td>...</td>\n",
       "      <td>...</td>\n",
       "    </tr>\n",
       "    <tr>\n",
       "      <th>2524</th>\n",
       "      <td>like, brain freeze on my leg!!</td>\n",
       "      <td>[fear, sadness, surprise]</td>\n",
       "      <td>like, brain freeze leg!!</td>\n",
       "    </tr>\n",
       "    <tr>\n",
       "      <th>2525</th>\n",
       "      <td>She cants her hip against my waist into my sid...</td>\n",
       "      <td>[joy, surprise]</td>\n",
       "      <td>cants hip waist side, knocking stumble tugging...</td>\n",
       "    </tr>\n",
       "    <tr>\n",
       "      <th>2526</th>\n",
       "      <td>It just kind of gradually vanished over a coup...</td>\n",
       "      <td>[surprise]</td>\n",
       "      <td>kind gradually vanished couple hours.</td>\n",
       "    </tr>\n",
       "    <tr>\n",
       "      <th>2527</th>\n",
       "      <td>I didn't look out of my hands.</td>\n",
       "      <td>[fear]</td>\n",
       "      <td>look hands.</td>\n",
       "    </tr>\n",
       "    <tr>\n",
       "      <th>2528</th>\n",
       "      <td>`` I'm fine, '' Amanda said forcefully, shrugg...</td>\n",
       "      <td>[anger]</td>\n",
       "      <td>`` I'm fine, '' Amanda said forcefully, shrugg...</td>\n",
       "    </tr>\n",
       "  </tbody>\n",
       "</table>\n",
       "<p>2529 rows × 3 columns</p>\n",
       "</div>"
      ],
      "text/plain": [
       "                                                   text  \\\n",
       "0                          Colorado, middle of nowhere.   \n",
       "1     This involved swimming a pretty large lake tha...   \n",
       "2           It was one of my most shameful experiences.   \n",
       "3                           Then the screaming started.   \n",
       "4     They don't fear death, and it seems they belie...   \n",
       "...                                                 ...   \n",
       "2524                     like, brain freeze on my leg!!   \n",
       "2525  She cants her hip against my waist into my sid...   \n",
       "2526  It just kind of gradually vanished over a coup...   \n",
       "2527                     I didn't look out of my hands.   \n",
       "2528  `` I'm fine, '' Amanda said forcefully, shrugg...   \n",
       "\n",
       "                         labels  \\\n",
       "0              [fear, surprise]   \n",
       "1                        [fear]   \n",
       "2               [fear, sadness]   \n",
       "3     [fear, sadness, surprise]   \n",
       "4              [fear, surprise]   \n",
       "...                         ...   \n",
       "2524  [fear, sadness, surprise]   \n",
       "2525            [joy, surprise]   \n",
       "2526                 [surprise]   \n",
       "2527                     [fear]   \n",
       "2528                    [anger]   \n",
       "\n",
       "                                             Clean_Text  \n",
       "0                             Colorado, middle nowhere.  \n",
       "1             involved swimming pretty large lake head.  \n",
       "2                                 shameful experiences.  \n",
       "3                                    screaming started.  \n",
       "4                    fear death, believe reincarnation.  \n",
       "...                                                 ...  \n",
       "2524                           like, brain freeze leg!!  \n",
       "2525  cants hip waist side, knocking stumble tugging...  \n",
       "2526              kind gradually vanished couple hours.  \n",
       "2527                                        look hands.  \n",
       "2528  `` I'm fine, '' Amanda said forcefully, shrugg...  \n",
       "\n",
       "[2529 rows x 3 columns]"
      ]
     },
     "execution_count": 58,
     "metadata": {},
     "output_type": "execute_result"
    }
   ],
   "source": [
    "df2"
   ]
  },
  {
   "cell_type": "code",
   "execution_count": null,
   "id": "1c6a3660-775d-4309-abe6-a0a658afff38",
   "metadata": {},
   "outputs": [],
   "source": [
    "df2.to_csv(\"cleaned_emotion_dataset.csv\", index=False)\n"
   ]
  },
  {
   "cell_type": "code",
   "execution_count": null,
   "id": "cfd54c76-05ad-444b-a57d-ccad3434d511",
   "metadata": {},
   "outputs": [],
   "source": []
  }
 ],
 "metadata": {
  "kernelspec": {
   "display_name": "Python 3 (ipykernel)",
   "language": "python",
   "name": "python3"
  },
  "language_info": {
   "codemirror_mode": {
    "name": "ipython",
    "version": 3
   },
   "file_extension": ".py",
   "mimetype": "text/x-python",
   "name": "python",
   "nbconvert_exporter": "python",
   "pygments_lexer": "ipython3",
   "version": "3.12.2"
  }
 },
 "nbformat": 4,
 "nbformat_minor": 5
}
